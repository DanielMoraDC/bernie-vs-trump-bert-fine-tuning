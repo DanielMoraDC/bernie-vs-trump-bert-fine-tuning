{
 "cells": [
  {
   "cell_type": "markdown",
   "metadata": {},
   "source": [
    "## Bernie vs Trump\n",
    "\n",
    "This is a toy example on how to fine-tune on a classification problem.\n",
    "\n",
    "We have collected sentences from two US presidential candidates and our task is to know from which person they come from."
   ]
  },
  {
   "cell_type": "code",
   "execution_count": 6,
   "metadata": {},
   "outputs": [],
   "source": [
    "from typing import Tuple\n",
    "\n",
    "import seaborn as sns\n",
    "import matplotlib.pyplot as plt\n",
    "\n",
    "import numpy as np\n",
    "import pandas as pd\n",
    "\n",
    "from ignite.engine import (\n",
    "    Events,\n",
    "    Engine,\n",
    ")\n",
    "from ignite.metrics import Accuracy\n",
    "\n",
    "import torch\n",
    "from torch.utils.data import (\n",
    "    DataLoader,\n",
    "    TensorDataset\n",
    ")\n",
    "\n",
    "from transformers import (\n",
    "    BertTokenizer,\n",
    "    BertForSequenceClassification,\n",
    "    AdamW,\n",
    ")\n",
    "\n",
    "from scipy.special import softmax\n",
    "\n",
    "from sklearn.model_selection import train_test_split\n",
    "\n",
    "from data import load_data\n",
    "\n",
    "pd.set_option('display.max_colwidth', None)"
   ]
  },
  {
   "cell_type": "markdown",
   "metadata": {},
   "source": [
    "## Read and visualize data"
   ]
  },
  {
   "cell_type": "code",
   "execution_count": 7,
   "metadata": {},
   "outputs": [
    {
     "data": {
      "text/html": [
       "<div>\n",
       "<style scoped>\n",
       "    .dataframe tbody tr th:only-of-type {\n",
       "        vertical-align: middle;\n",
       "    }\n",
       "\n",
       "    .dataframe tbody tr th {\n",
       "        vertical-align: top;\n",
       "    }\n",
       "\n",
       "    .dataframe thead th {\n",
       "        text-align: right;\n",
       "    }\n",
       "</style>\n",
       "<table border=\"1\" class=\"dataframe\">\n",
       "  <thead>\n",
       "    <tr style=\"text-align: right;\">\n",
       "      <th></th>\n",
       "      <th>sentence</th>\n",
       "      <th>is_trump</th>\n",
       "    </tr>\n",
       "  </thead>\n",
       "  <tbody>\n",
       "    <tr>\n",
       "      <th>117</th>\n",
       "      <td>We will also address the attacks that are being launched each day against the civil rights and civil liberties of our people.</td>\n",
       "      <td>False</td>\n",
       "    </tr>\n",
       "    <tr>\n",
       "      <th>65</th>\n",
       "      <td>We must see ourselves as part of one nation, one community and one society — regardless of race, gender, religion, sexual orientation, or country of origin.</td>\n",
       "      <td>False</td>\n",
       "    </tr>\n",
       "    <tr>\n",
       "      <th>105</th>\n",
       "      <td>It is time for the American people to stand up and fight for their right to freedom, human dignity and security.</td>\n",
       "      <td>False</td>\n",
       "    </tr>\n",
       "    <tr>\n",
       "      <th>7</th>\n",
       "      <td>They are the teachers taking to the streets to make certain that schools are adequately funded and that their students get a quality education.</td>\n",
       "      <td>False</td>\n",
       "    </tr>\n",
       "    <tr>\n",
       "      <th>205</th>\n",
       "      <td>We’re going to win so much — we’re going to win a lot. We’re going to win a lot. We’re going to win so much you’re all going to get sick and tired of winning. You’re going to say oh no, not again. I’m only kidding. You never get tired of winning, right? Never.</td>\n",
       "      <td>True</td>\n",
       "    </tr>\n",
       "  </tbody>\n",
       "</table>\n",
       "</div>"
      ],
      "text/plain": [
       "                                                                                                                                                                                                                                                                 sentence  \\\n",
       "117                                                                                                                                         We will also address the attacks that are being launched each day against the civil rights and civil liberties of our people.   \n",
       "65                                                                                                           We must see ourselves as part of one nation, one community and one society — regardless of race, gender, religion, sexual orientation, or country of origin.   \n",
       "105                                                                                                                                                      It is time for the American people to stand up and fight for their right to freedom, human dignity and security.   \n",
       "7                                                                                                                         They are the teachers taking to the streets to make certain that schools are adequately funded and that their students get a quality education.   \n",
       "205  We’re going to win so much — we’re going to win a lot. We’re going to win a lot. We’re going to win so much you’re all going to get sick and tired of winning. You’re going to say oh no, not again. I’m only kidding. You never get tired of winning, right? Never.   \n",
       "\n",
       "     is_trump  \n",
       "117     False  \n",
       "65      False  \n",
       "105     False  \n",
       "7       False  \n",
       "205      True  "
      ]
     },
     "execution_count": 7,
     "metadata": {},
     "output_type": "execute_result"
    }
   ],
   "source": [
    "sentences = load_data('data', balance=True)\n",
    "sentences.sample(5)"
   ]
  },
  {
   "cell_type": "markdown",
   "metadata": {},
   "source": [
    "## Load tokenizer "
   ]
  },
  {
   "cell_type": "code",
   "execution_count": 8,
   "metadata": {},
   "outputs": [],
   "source": [
    "pretrained_model_name = 'bert-base-cased'\n",
    "tokenizer = BertTokenizer.from_pretrained(pretrained_model_name)"
   ]
  },
  {
   "cell_type": "markdown",
   "metadata": {},
   "source": [
    "## Decide token length"
   ]
  },
  {
   "cell_type": "code",
   "execution_count": 9,
   "metadata": {},
   "outputs": [],
   "source": [
    "trump_token_ids = sentences[sentences.is_trump].sentence.apply(\n",
    "    lambda x: tokenizer.encode(str(x), add_special_tokens=False)\n",
    ")\n",
    "\n",
    "bernie_token_ids = sentences[~sentences.is_trump].sentence.apply(\n",
    "    lambda x: tokenizer.encode(str(x), add_special_tokens=False)\n",
    ")"
   ]
  },
  {
   "cell_type": "markdown",
   "metadata": {},
   "source": [
    "Let's visualize the token length per class."
   ]
  },
  {
   "cell_type": "code",
   "execution_count": 10,
   "metadata": {},
   "outputs": [
    {
     "data": {
      "text/plain": [
       "<matplotlib.legend.Legend at 0x13df26390>"
      ]
     },
     "execution_count": 10,
     "metadata": {},
     "output_type": "execute_result"
    },
    {
     "data": {
      "image/png": "[encoded data removed]",
      "text/plain": [
       "<Figure size 720x288 with 1 Axes>"
      ]
     },
     "metadata": {
      "needs_background": "light"
     },
     "output_type": "display_data"
    }
   ],
   "source": [
    "fig = plt.figure(figsize=(10, 4))\n",
    "ax = fig.gca()\n",
    "\n",
    "sns.kdeplot(\n",
    "    list(map(len, trump_token_ids)),\n",
    "    bw_adjust=0.75,\n",
    "    label='Trump',\n",
    "    ax=ax\n",
    ")\n",
    "\n",
    "sns.kdeplot(\n",
    "    list(map(len, bernie_token_ids)),\n",
    "    bw_adjust=0.55,\n",
    "    label='Bernie',\n",
    "    ax=ax,\n",
    ")\n",
    "\n",
    "ax.legend()"
   ]
  },
  {
   "cell_type": "code",
   "execution_count": 11,
   "metadata": {},
   "outputs": [],
   "source": [
    "max_token_num = 70"
   ]
  },
  {
   "cell_type": "markdown",
   "metadata": {},
   "source": [
    "I am going to limit the length of the sentences to 70."
   ]
  },
  {
   "cell_type": "markdown",
   "metadata": {},
   "source": [
    "Let's split data between training and validation."
   ]
  },
  {
   "cell_type": "code",
   "execution_count": 12,
   "metadata": {},
   "outputs": [
    {
     "name": "stdout",
     "output_type": "stream",
     "text": [
      "Sentences in training: 201\n",
      "Sentences in validation: 45\n"
     ]
    }
   ],
   "source": [
    "train_sentences, val_sentences = train_test_split(sentences, test_size=0.18)\n",
    "print(f'Sentences in training: {len(train_sentences)}')\n",
    "print(f'Sentences in validation: {len(val_sentences)}')"
   ]
  },
  {
   "cell_type": "markdown",
   "metadata": {},
   "source": [
    "## Load pre-trained classification model"
   ]
  },
  {
   "cell_type": "code",
   "execution_count": 13,
   "metadata": {},
   "outputs": [
    {
     "name": "stderr",
     "output_type": "stream",
     "text": [
      "Some weights of the model checkpoint at bert-base-cased were not used when initializing BertForSequenceClassification: ['cls.predictions.bias', 'cls.predictions.transform.dense.weight', 'cls.predictions.transform.dense.bias', 'cls.predictions.decoder.weight', 'cls.seq_relationship.weight', 'cls.seq_relationship.bias', 'cls.predictions.transform.LayerNorm.weight', 'cls.predictions.transform.LayerNorm.bias']\n",
      "- This IS expected if you are initializing BertForSequenceClassification from the checkpoint of a model trained on another task or with another architecture (e.g. initializing a BertForSequenceClassification model from a BertForPretraining model).\n",
      "- This IS NOT expected if you are initializing BertForSequenceClassification from the checkpoint of a model that you expect to be exactly identical (initializing a BertForSequenceClassification model from a BertForSequenceClassification model).\n",
      "Some weights of BertForSequenceClassification were not initialized from the model checkpoint at bert-base-cased and are newly initialized: ['classifier.weight', 'classifier.bias']\n",
      "You should probably TRAIN this model on a down-stream task to be able to use it for predictions and inference.\n"
     ]
    }
   ],
   "source": [
    "device = 'cuda' if torch.cuda.is_available() else 'cpu'\n",
    "\n",
    "model = BertForSequenceClassification.from_pretrained(\n",
    "    pretrained_model_name,\n",
    "    num_labels=2,\n",
    "    output_attentions=False,\n",
    "    output_hidden_states=False).to(device)"
   ]
  },
  {
   "cell_type": "markdown",
   "metadata": {},
   "source": [
    "Note warning tells us exactly what we expect to happen before fine-tuning."
   ]
  },
  {
   "cell_type": "markdown",
   "metadata": {},
   "source": [
    "## Create data loaders"
   ]
  },
  {
   "cell_type": "markdown",
   "metadata": {},
   "source": [
    "Let's compute the needed set of arrays to input to BERT."
   ]
  },
  {
   "cell_type": "code",
   "execution_count": 14,
   "metadata": {},
   "outputs": [],
   "source": [
    "def encode_sentence(text: str, max_length: int) -> Tuple[np.ndarray, np.ndarray]:\n",
    "    encoded_dict = tokenizer.encode_plus(\n",
    "        text,\n",
    "        add_special_tokens=True,\n",
    "        max_length=max_length,\n",
    "        truncation=True,\n",
    "        padding='max_length',\n",
    "        return_attention_mask = True\n",
    "    )\n",
    "    return encoded_dict['input_ids'], encoded_dict['attention_mask']\n",
    "\n",
    "\n",
    "def process_data(df: pd.DataFrame,\n",
    "                 max_length: int) -> Tuple[np.ndarray,\n",
    "                                           np.ndarray,\n",
    "                                           np.ndarray]:\n",
    "    \"\"\" Map sentences in DataFrame into proper model inputs\n",
    "    \n",
    "    We are extracting, for each sentence:\n",
    "    \n",
    "        - List of token identifiers (including special tokens)\n",
    "        - Input attention masks (which prevent focusing on padding tokens)\n",
    "        - Sentence label\n",
    "        \n",
    "    Number of tokens are padded to the maximum provided (special\n",
    "    tokens are considered for computing the length of the sentence).\n",
    "    \n",
    "    \"\"\"\n",
    "    encoded_dicts = df.sentence.apply(\n",
    "        lambda x: encode_sentence(x, max_length=max_length)\n",
    "    )\n",
    "    token_ids, attention_masks = zip(*encoded_dicts)\n",
    "    return token_ids, attention_masks, df.is_trump.values\n",
    "\n",
    "\n",
    "def build_dataset(df: pd.DataFrame,\n",
    "                  max_length: int) -> torch.utils.data.Dataset:\n",
    "    token_ids, attention_masks, labels = process_data(df,\n",
    "                                                      max_length=max_length)\n",
    "    return TensorDataset(torch.Tensor(token_ids).to(torch.long),\n",
    "                         torch.Tensor(attention_masks),\n",
    "                         torch.Tensor(labels).to(torch.long))\n",
    "\n",
    "# As dataset is small, we can fit it on memory\n",
    "train_dataset = build_dataset(train_sentences, max_length=max_token_num)\n",
    "val_dataset = build_dataset(val_sentences, max_length=max_token_num)"
   ]
  },
  {
   "cell_type": "markdown",
   "metadata": {},
   "source": [
    "Create dataset loaders."
   ]
  },
  {
   "cell_type": "code",
   "execution_count": 15,
   "metadata": {},
   "outputs": [],
   "source": [
    "batch_size = 32\n",
    "\n",
    "train_loader = DataLoader(train_dataset, shuffle=True, batch_size=batch_size)\n",
    "val_loader = DataLoader(val_dataset, shuffle=True, batch_size=batch_size)"
   ]
  },
  {
   "cell_type": "markdown",
   "metadata": {},
   "source": [
    "## Set training loop"
   ]
  },
  {
   "cell_type": "markdown",
   "metadata": {},
   "source": [
    "Initialize optimizer."
   ]
  },
  {
   "cell_type": "code",
   "execution_count": 16,
   "metadata": {},
   "outputs": [],
   "source": [
    "optimizer = AdamW(model.parameters(), lr = 1e-5)  # integrated LR decay"
   ]
  },
  {
   "cell_type": "markdown",
   "metadata": {},
   "source": [
    "Define train step."
   ]
  },
  {
   "cell_type": "code",
   "execution_count": 17,
   "metadata": {},
   "outputs": [],
   "source": [
    "def train_step(engine, batch):\n",
    "\n",
    "    model.train()\n",
    "    \n",
    "    optimizer.zero_grad()\n",
    "    \n",
    "    batch_token_ids = batch[0].to(device)\n",
    "    batch_att_masks = batch[1].to(device)\n",
    "    batch_labels = batch[2].to(device)\n",
    "    \n",
    "    loss, _ = model(batch_token_ids,\n",
    "                    attention_mask=batch_att_masks, \n",
    "                    labels=batch_labels)\n",
    "    \n",
    "    loss.backward()\n",
    "    optimizer.step()\n",
    "    \n",
    "    return loss.item()"
   ]
  },
  {
   "cell_type": "markdown",
   "metadata": {},
   "source": [
    "Define validation step."
   ]
  },
  {
   "cell_type": "code",
   "execution_count": 18,
   "metadata": {},
   "outputs": [],
   "source": [
    "def validation_step(engine, batch):\n",
    "    \n",
    "    model.eval()\n",
    "    \n",
    "    with torch.no_grad():\n",
    "        \n",
    "        batch_token_ids = batch[0].to(device)\n",
    "        batch_att_masks = batch[1].to(device)\n",
    "        batch_labels = batch[2].to(device)\n",
    "\n",
    "        batch_logits = model(batch_token_ids, attention_mask=batch_att_masks)\n",
    "        return batch_logits[0], batch_labels"
   ]
  },
  {
   "cell_type": "markdown",
   "metadata": {},
   "source": [
    "Create trainer and evaluator engines."
   ]
  },
  {
   "cell_type": "code",
   "execution_count": 19,
   "metadata": {},
   "outputs": [],
   "source": [
    "trainer = Engine(train_step)\n",
    "\n",
    "evaluator = Engine(validation_step)\n",
    "accuracy = Accuracy()\n",
    "accuracy.attach(evaluator, 'accuracy')"
   ]
  },
  {
   "cell_type": "markdown",
   "metadata": {},
   "source": [
    "Define callbacks."
   ]
  },
  {
   "cell_type": "code",
   "execution_count": 20,
   "metadata": {},
   "outputs": [],
   "source": [
    "@trainer.on(Events.ITERATION_COMPLETED)\n",
    "def log_training_loss(trainer):\n",
    "    iteration = trainer.state.iteration\n",
    "    n_iterations = trainer.state.epoch_length\n",
    "    print(\n",
    "        f'Epoch[{trainer.state.epoch}/{trainer.state.max_epochs}] '\n",
    "        f'Iteration[{(iteration - 1) % n_iterations}/{n_iterations}] '\n",
    "        f'Loss: {trainer.state.output:.2f}'\n",
    "    )\n",
    "\n",
    "@trainer.on(Events.EPOCH_COMPLETED)\n",
    "def log_training_results(trainer):\n",
    "    evaluator.run(train_loader)\n",
    "    metrics = evaluator.state.metrics\n",
    "    print(f'Training Results - Epoch: {trainer.state.epoch}, '\n",
    "          f'Accuracy: {metrics[\"accuracy\"]:.2f}')\n",
    "\n",
    "@trainer.on(Events.EPOCH_COMPLETED)\n",
    "def log_validation_results(trainer):\n",
    "    evaluator.run(val_loader)\n",
    "    metrics = evaluator.state.metrics\n",
    "    print(f'Validation Results - Epoch: {trainer.state.epoch}, '\n",
    "          f'Accuracy: {metrics[\"accuracy\"]:.2f}')"
   ]
  },
  {
   "cell_type": "code",
   "execution_count": 21,
   "metadata": {},
   "outputs": [
    {
     "name": "stdout",
     "output_type": "stream",
     "text": [
      "Epoch[1/3] Iteration[0/7] Loss: 0.71\n",
      "Epoch[1/3] Iteration[1/7] Loss: 0.69\n",
      "Epoch[1/3] Iteration[2/7] Loss: 0.59\n",
      "Epoch[1/3] Iteration[3/7] Loss: 0.53\n",
      "Epoch[1/3] Iteration[4/7] Loss: 0.47\n",
      "Epoch[1/3] Iteration[5/7] Loss: 0.43\n",
      "Epoch[1/3] Iteration[6/7] Loss: 0.35\n",
      "Training Results - Epoch: 1, Accuracy: 0.89\n",
      "Validation Results - Epoch: 1, Accuracy: 0.91\n",
      "Epoch[2/3] Iteration[0/7] Loss: 0.39\n",
      "Epoch[2/3] Iteration[1/7] Loss: 0.49\n",
      "Epoch[2/3] Iteration[2/7] Loss: 0.40\n",
      "Epoch[2/3] Iteration[3/7] Loss: 0.26\n",
      "Epoch[2/3] Iteration[4/7] Loss: 0.27\n",
      "Epoch[2/3] Iteration[5/7] Loss: 0.32\n",
      "Epoch[2/3] Iteration[6/7] Loss: 0.39\n",
      "Training Results - Epoch: 2, Accuracy: 0.97\n",
      "Validation Results - Epoch: 2, Accuracy: 0.98\n",
      "Epoch[3/3] Iteration[0/7] Loss: 0.22\n",
      "Epoch[3/3] Iteration[1/7] Loss: 0.17\n",
      "Epoch[3/3] Iteration[2/7] Loss: 0.16\n",
      "Epoch[3/3] Iteration[3/7] Loss: 0.20\n",
      "Epoch[3/3] Iteration[4/7] Loss: 0.13\n",
      "Epoch[3/3] Iteration[5/7] Loss: 0.10\n",
      "Epoch[3/3] Iteration[6/7] Loss: 0.12\n",
      "Training Results - Epoch: 3, Accuracy: 1.00\n",
      "Validation Results - Epoch: 3, Accuracy: 0.98\n"
     ]
    }
   ],
   "source": [
    "trainer.run(train_loader, max_epochs=3);"
   ]
  },
  {
   "cell_type": "markdown",
   "metadata": {},
   "source": [
    "## Perform new predictions\n",
    "\n",
    "We extract test sentences from their Tweet accounts and see the results."
   ]
  },
  {
   "cell_type": "code",
   "execution_count": 22,
   "metadata": {},
   "outputs": [
    {
     "name": "stdout",
     "output_type": "stream",
     "text": [
      "Sentence: \"Democratic socialism means that we must create an economy that works for all, not just the very wealthy.\"\n",
      "\t- Bernie probability: 0.94\n",
      "\t- Trump probability: 0.06\n",
      "Sentence: \"He hasn't taken any cognitive test, because he couldn't pass one.\"\n",
      "\t- Bernie probability: 0.33\n",
      "\t- Trump probability: 0.67\n",
      "Sentence: \"What a hypocrite. Elon Musk has received billions in corporate welfare from U.S. taxpayers.\"\n",
      "\t- Bernie probability: 0.94\n",
      "\t- Trump probability: 0.06\n",
      "Sentence: \"This was just another phony hit job by the @nytimes. They had no source, they made it up. FAKE NEWS!\"\n",
      "\t- Bernie probability: 0.15\n",
      "\t- Trump probability: 0.85\n",
      "Sentence: \"Today we have a president who does not believe in democracy. A president cannot send troops wherever he wants to quash dissent.\"\n",
      "\t- Bernie probability: 0.94\n",
      "\t- Trump probability: 0.06\n",
      "Sentence: \"The Lamestream Media, including @FoxNews, which has really checked out, is refusing to show what is REALLY going on in Portland, Seattle, and other places.\"\n",
      "\t- Bernie probability: 0.92\n",
      "\t- Trump probability: 0.08\n",
      "Sentence: \"Trump wants to give wealthy businessmen a tax break to go out to fancy restaurants, but opposes nutrition assistance to millions of low-income Americans who are going hungry.\"\n",
      "\t- Bernie probability: 0.94\n",
      "\t- Trump probability: 0.06\n"
     ]
    }
   ],
   "source": [
    "def show_prediction(sentence: str, max_length: int):\n",
    "    # Prepare inputs\n",
    "    token_ids, att_mask = encode_sentence(sentence, max_length=max_length)\n",
    "    token_ids_tensor = torch.Tensor([token_ids]).to(torch.long)\n",
    "    att_mask_tensor = torch.Tensor([att_mask]).to(torch.float32)\n",
    "    \n",
    "    # Send prediction to model                               \n",
    "    predictions = model(\n",
    "        token_ids_tensor.to(device),\n",
    "        attention_mask=att_mask_tensor.to(device)\n",
    "    )[0].detach().cpu().numpy()[0]\n",
    "    probabilities = softmax(predictions)\n",
    "    \n",
    "    # Print predictions\n",
    "    print(f'Sentence: \"{sentence}\"')\n",
    "    print(f'\\t- Bernie probability: {probabilities[0]:.2f}')\n",
    "    print(f'\\t- Trump probability: {probabilities[1]:.2f}')\n",
    "                                   \n",
    "show_prediction(\"Democratic socialism means that we must create an economy that works for all, not just the very wealthy.\",\n",
    "                max_length=max_token_num)  \n",
    "show_prediction(\"He hasn't taken any cognitive test, because he couldn't pass one.\",\n",
    "                max_length=max_token_num)\n",
    "show_prediction(\"What a hypocrite. Elon Musk has received billions in corporate welfare from U.S. taxpayers.\",\n",
    "                max_length=max_token_num)\n",
    "show_prediction(\"This was just another phony hit job by the @nytimes. They had no source, they made it up. FAKE NEWS!\",\n",
    "                max_length=max_token_num)\n",
    "show_prediction(\"Today we have a president who does not believe in democracy. A president cannot send troops wherever he wants to quash dissent.\",\n",
    "                max_length=max_token_num)\n",
    "show_prediction(\"The Lamestream Media, including @FoxNews, which has really checked out, is refusing to show what is REALLY going on in Portland, Seattle, and other places.\",\n",
    "                max_length=max_token_num)\n",
    "show_prediction(\"Trump wants to give wealthy businessmen a tax break to go out to fancy restaurants, but opposes nutrition assistance to millions of low-income Americans who are going hungry.\",\n",
    "                max_length=max_token_num)         "
   ]
  },
  {
   "cell_type": "markdown",
   "metadata": {},
   "source": [
    "It generalizes sometimes. However, as the dataset we used is very limited, we cannot expect to be very robust when shown unseen sentences."
   ]
  }
 ],
 "metadata": {
  "kernelspec": {
   "display_name": "Python 3",
   "language": "python",
   "name": "python3"
  },
  "language_info": {
   "codemirror_mode": {
    "name": "ipython",
    "version": 3
   },
   "file_extension": ".py",
   "mimetype": "text/x-python",
   "name": "python",
   "nbconvert_exporter": "python",
   "pygments_lexer": "ipython3",
   "version": "3.7.5"
  }
 },
 "nbformat": 4,
 "nbformat_minor": 4
}
